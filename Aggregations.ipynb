{
 "cells": [
  {
   "cell_type": "code",
   "execution_count": 1,
   "metadata": {
    "collapsed": true,
    "deletable": true,
    "editable": true
   },
   "outputs": [],
   "source": [
    "from requests import get, post, put, delete"
   ]
  },
  {
   "cell_type": "code",
   "execution_count": null,
   "metadata": {
    "collapsed": true,
    "deletable": true,
    "editable": true
   },
   "outputs": [],
   "source": []
  },
  {
   "cell_type": "code",
   "execution_count": 7,
   "metadata": {
    "collapsed": false,
    "deletable": true,
    "editable": true
   },
   "outputs": [
    {
     "data": {
      "text/plain": [
       "<Response [200]>"
      ]
     },
     "execution_count": 7,
     "metadata": {},
     "output_type": "execute_result"
    }
   ],
   "source": [
    "# Loading some accounts data to perform aggregations on it\n",
    "\n",
    "url = 'http://localhost:9200/accounts/personal/_bulk?pretty&refresh'\n",
    "data = open('accounts.json', 'rb').read()\n",
    "headers = {\n",
    "    \"Content-Type\":\"application/x-ndjson\",\n",
    "}\n",
    "resp = post(url,data=data,headers=headers)\n",
    "resp"
   ]
  },
  {
   "cell_type": "code",
   "execution_count": 9,
   "metadata": {
    "collapsed": false,
    "deletable": true,
    "editable": true
   },
   "outputs": [],
   "source": [
    "# data columns we have in the above index\n",
    "# {\n",
    "#   \"account_number\" : 1,\n",
    "#   \"balance\" : 39225,\n",
    "#   \"firstname\" : \"Amber\",\n",
    "#   \"lastname\" : \"Duke\",\n",
    "#   \"age\" : 32,\n",
    "#   \"gender\" : \"M\",\n",
    "#   \"address\" : \"880 Holmes Lane\",\n",
    "#   \"employer\" : \"Pyrami\",\n",
    "#   \"email\" : \"amberduke@pyrami.com\",\n",
    "#   \"city\" : \"Brogan\",\n",
    "#   \"state\" : \"IL\"\n",
    "# }"
   ]
  },
  {
   "cell_type": "code",
   "execution_count": null,
   "metadata": {
    "collapsed": true,
    "deletable": true,
    "editable": true
   },
   "outputs": [],
   "source": []
  },
  {
   "cell_type": "markdown",
   "metadata": {
    "deletable": true,
    "editable": true
   },
   "source": [
    "There are total 4 types of aggregations\n",
    " - Metric\n",
    " - Bucketing\n",
    " - Matrix\n",
    " - Pipeline"
   ]
  },
  {
   "cell_type": "code",
   "execution_count": null,
   "metadata": {
    "collapsed": true,
    "deletable": true,
    "editable": true
   },
   "outputs": [],
   "source": []
  },
  {
   "cell_type": "markdown",
   "metadata": {
    "deletable": true,
    "editable": true
   },
   "source": [
    "### Metric Aggregations"
   ]
  },
  {
   "cell_type": "code",
   "execution_count": 10,
   "metadata": {
    "collapsed": false,
    "deletable": true,
    "editable": true
   },
   "outputs": [
    {
     "data": {
      "text/plain": [
       "{u'_shards': {u'failed': 0, u'skipped': 0, u'successful': 1, u'total': 1},\n",
       " u'aggregations': {u'total_balance': {u'value': 25714837.0}},\n",
       " u'hits': {u'hits': [],\n",
       "  u'max_score': None,\n",
       "  u'total': {u'relation': u'eq', u'value': 1000}},\n",
       " u'timed_out': False,\n",
       " u'took': 22}"
      ]
     },
     "execution_count": 10,
     "metadata": {},
     "output_type": "execute_result"
    }
   ],
   "source": [
    "url = 'http://localhost:9200/accounts/_search?pretty'\n",
    "query = {\n",
    "    'size': 0,\n",
    "    'aggs': {\n",
    "        'total_balance': {\n",
    "            'sum': {\n",
    "                'field': 'balance'\n",
    "            }\n",
    "        }\n",
    "    }\n",
    "}\n",
    "\n",
    "resp = post(url, json=query)\n",
    "resp.json()"
   ]
  },
  {
   "cell_type": "code",
   "execution_count": null,
   "metadata": {
    "collapsed": true,
    "deletable": true,
    "editable": true
   },
   "outputs": [],
   "source": []
  },
  {
   "cell_type": "code",
   "execution_count": 11,
   "metadata": {
    "collapsed": false,
    "deletable": true,
    "editable": true
   },
   "outputs": [
    {
     "data": {
      "text/plain": [
       "{u'_shards': {u'failed': 0, u'skipped': 0, u'successful': 1, u'total': 1},\n",
       " u'aggregations': {u'my_stats': {u'avg': 25714.837,\n",
       "   u'count': 1000,\n",
       "   u'max': 49989.0,\n",
       "   u'min': 1011.0,\n",
       "   u'sum': 25714837.0}},\n",
       " u'hits': {u'hits': [],\n",
       "  u'max_score': None,\n",
       "  u'total': {u'relation': u'eq', u'value': 1000}},\n",
       " u'timed_out': False,\n",
       " u'took': 33}"
      ]
     },
     "execution_count": 11,
     "metadata": {},
     "output_type": "execute_result"
    }
   ],
   "source": [
    "# Stats, Getting all the basic metrics\n",
    "url = 'http://localhost:9200/accounts/_search?pretty'\n",
    "query = {\n",
    "    'size': 0,\n",
    "    'aggs': {\n",
    "        'my_stats': {\n",
    "            'stats': {\n",
    "                'field': 'balance'\n",
    "            }\n",
    "        }\n",
    "    }\n",
    "}\n",
    "\n",
    "resp = post(url, json=query)\n",
    "resp.json()"
   ]
  },
  {
   "cell_type": "code",
   "execution_count": null,
   "metadata": {
    "collapsed": true,
    "deletable": true,
    "editable": true
   },
   "outputs": [],
   "source": []
  },
  {
   "cell_type": "code",
   "execution_count": null,
   "metadata": {
    "collapsed": true,
    "deletable": true,
    "editable": true
   },
   "outputs": [],
   "source": []
  },
  {
   "cell_type": "markdown",
   "metadata": {
    "collapsed": true,
    "deletable": true,
    "editable": true
   },
   "source": [
    "### Cardinality\n",
    "The number of unique values in the field"
   ]
  },
  {
   "cell_type": "code",
   "execution_count": 13,
   "metadata": {
    "collapsed": false,
    "deletable": true,
    "editable": true
   },
   "outputs": [
    {
     "data": {
      "text/plain": [
       "{u'_shards': {u'failed': 0, u'skipped': 0, u'successful': 1, u'total': 1},\n",
       " u'aggregations': {u'city_count': {u'value': 999}},\n",
       " u'hits': {u'hits': [],\n",
       "  u'max_score': None,\n",
       "  u'total': {u'relation': u'eq', u'value': 1000}},\n",
       " u'timed_out': False,\n",
       " u'took': 73}"
      ]
     },
     "execution_count": 13,
     "metadata": {},
     "output_type": "execute_result"
    }
   ],
   "source": [
    "# Also, we need to enable fielddata or use keyword\n",
    "query = {\n",
    "    'size': 0,\n",
    "    'aggs': {\n",
    "        'city_count': {\n",
    "            'cardinality': {\n",
    "                'field': 'city.keyword'\n",
    "            }\n",
    "        }\n",
    "    }\n",
    "}\n",
    "\n",
    "\n",
    "resp = post(url, json=query)\n",
    "resp.json()"
   ]
  },
  {
   "cell_type": "markdown",
   "metadata": {
    "deletable": true,
    "editable": true
   },
   "source": [
    "#### Turning on fielddata on text field\n",
    "<img src=\"turning-on-fielddata.png\" />"
   ]
  },
  {
   "cell_type": "code",
   "execution_count": null,
   "metadata": {
    "collapsed": true,
    "deletable": true,
    "editable": true
   },
   "outputs": [],
   "source": [
    "url"
   ]
  },
  {
   "cell_type": "markdown",
   "metadata": {
    "deletable": true,
    "editable": true
   },
   "source": [
    "### Bucketing Aggs"
   ]
  },
  {
   "cell_type": "code",
   "execution_count": 14,
   "metadata": {
    "collapsed": false,
    "deletable": true,
    "editable": true
   },
   "outputs": [
    {
     "data": {
      "text/plain": [
       "{u'_shards': {u'failed': 0, u'skipped': 0, u'successful': 1, u'total': 1},\n",
       " u'aggregations': {u'gender_bucket': {u'buckets': [{u'doc_count': 507,\n",
       "     u'key': u'M'},\n",
       "    {u'doc_count': 493, u'key': u'F'}],\n",
       "   u'doc_count_error_upper_bound': 0,\n",
       "   u'sum_other_doc_count': 0}},\n",
       " u'hits': {u'hits': [],\n",
       "  u'max_score': None,\n",
       "  u'total': {u'relation': u'eq', u'value': 1000}},\n",
       " u'timed_out': False,\n",
       " u'took': 57}"
      ]
     },
     "execution_count": 14,
     "metadata": {},
     "output_type": "execute_result"
    }
   ],
   "source": [
    "# Also, we need to enable fielddata or use keyword\n",
    "query = {\n",
    "    'size': 0,\n",
    "    'aggs': {\n",
    "        'gender_bucket': {\n",
    "            'terms': {\n",
    "                'field': 'gender.keyword'\n",
    "            }\n",
    "        }\n",
    "    }\n",
    "}\n",
    "\n",
    "\n",
    "resp = post(url, json=query)\n",
    "resp.json()"
   ]
  },
  {
   "cell_type": "code",
   "execution_count": 17,
   "metadata": {
    "collapsed": false,
    "deletable": true,
    "editable": true
   },
   "outputs": [
    {
     "data": {
      "text/plain": [
       "{u'_shards': {u'failed': 0, u'skipped': 0, u'successful': 1, u'total': 1},\n",
       " u'aggregations': {u'balance_bucket': {u'buckets': [{u'doc_count': 0,\n",
       "     u'key': u'*-1000.0',\n",
       "     u'to': 1000.0},\n",
       "    {u'doc_count': 79,\n",
       "     u'from': 1001.0,\n",
       "     u'key': u'1001.0-5000.0',\n",
       "     u'to': 5000.0},\n",
       "    {u'doc_count': 921, u'from': 5001.0, u'key': u'5001.0-*'}]}},\n",
       " u'hits': {u'hits': [],\n",
       "  u'max_score': None,\n",
       "  u'total': {u'relation': u'eq', u'value': 1000}},\n",
       " u'timed_out': False,\n",
       " u'took': 10}"
      ]
     },
     "execution_count": 17,
     "metadata": {},
     "output_type": "execute_result"
    }
   ],
   "source": [
    "# Multilevel Nested Aggregations\n",
    "query = {\n",
    "    'size': 0,\n",
    "    'aggs': {\n",
    "        'balance_bucket': {\n",
    "            'range': {\n",
    "                'field': 'balance',\n",
    "                'ranges': [\n",
    "                    {'to': 1000},\n",
    "                    {'from': 1001, 'to': 5000},\n",
    "                    {'from': 5001}\n",
    "                ]\n",
    "            }\n",
    "        }\n",
    "    }\n",
    "}\n",
    "\n",
    "\n",
    "resp = post(url, json=query)\n",
    "resp.json()"
   ]
  },
  {
   "cell_type": "code",
   "execution_count": null,
   "metadata": {
    "collapsed": true,
    "deletable": true,
    "editable": true
   },
   "outputs": [],
   "source": []
  },
  {
   "cell_type": "markdown",
   "metadata": {
    "deletable": true,
    "editable": true
   },
   "source": [
    "### Bucketing, Metric Aggs"
   ]
  },
  {
   "cell_type": "code",
   "execution_count": 20,
   "metadata": {
    "collapsed": false,
    "deletable": true,
    "editable": true
   },
   "outputs": [],
   "source": [
    "# Multilevel nested metric aggs with buckets\n",
    "query = {\n",
    "    'size': 0,\n",
    "    'aggs': {\n",
    "        'state_bucket': {\n",
    "            'terms': {\n",
    "                'field': 'state.keyword'\n",
    "            },\n",
    "            'aggs': {\n",
    "            'gender_bucket': {\n",
    "                'terms': {\n",
    "                    'field': 'gender.keyword'\n",
    "                },\n",
    "                'aggs': {\n",
    "                    'min_balance': {\n",
    "                        'min': {\n",
    "                            'field': 'balance'\n",
    "                        }\n",
    "                    },\n",
    "                     'max_balance': {\n",
    "                        'max': {\n",
    "                            'field': 'balance'\n",
    "                        }\n",
    "                    }\n",
    "                }\n",
    "            }\n",
    "        }\n",
    "        }\n",
    "    }\n",
    "        \n",
    "}\n",
    "\n",
    "\n",
    "resp = post(url, json=query)\n",
    "resp.json()"
   ]
  },
  {
   "cell_type": "code",
   "execution_count": null,
   "metadata": {
    "collapsed": true,
    "deletable": true,
    "editable": true
   },
   "outputs": [],
   "source": []
  },
  {
   "cell_type": "markdown",
   "metadata": {
    "deletable": true,
    "editable": true
   },
   "source": [
    "### Filter & Filters"
   ]
  },
  {
   "cell_type": "code",
   "execution_count": 22,
   "metadata": {
    "collapsed": false,
    "deletable": true,
    "editable": true
   },
   "outputs": [],
   "source": [
    "# With Filter\n",
    "query = {\n",
    "    'size': 0,\n",
    "    'aggs': {\n",
    "        'gender': {\n",
    "            'filter': {\n",
    "                'match': {'gender': 'M'}\n",
    "            },\n",
    "            'aggs': {\n",
    "                'avg_balance': {\n",
    "                    'avg': {\n",
    "                        'field': 'balance'\n",
    "                    }\n",
    "                }\n",
    "            }\n",
    "        }\n",
    "    }\n",
    "}\n",
    "\n",
    "resp = post(url, json=query)\n",
    "resp.json()"
   ]
  },
  {
   "cell_type": "code",
   "execution_count": 25,
   "metadata": {
    "collapsed": false,
    "deletable": true,
    "editable": true
   },
   "outputs": [],
   "source": [
    "query = {\n",
    "    'size': 0,\n",
    "    'aggs': {\n",
    "        'state_bucket': {\n",
    "            'filters': {\n",
    "                'other_bucket_key': 'Other States',\n",
    "                'filters': {\n",
    "                    'IL': {'match': {'state': 'IL'}},\n",
    "                    'TN': {'match': {'state': 'TN'}}\n",
    "                }\n",
    "            }\n",
    "        }\n",
    "        \n",
    "    }\n",
    "}\n",
    "\n",
    "resp = post(url, json=query)\n",
    "resp.json()"
   ]
  },
  {
   "cell_type": "code",
   "execution_count": null,
   "metadata": {
    "collapsed": true,
    "deletable": true,
    "editable": true
   },
   "outputs": [],
   "source": []
  },
  {
   "cell_type": "code",
   "execution_count": null,
   "metadata": {
    "collapsed": true,
    "deletable": true,
    "editable": true
   },
   "outputs": [],
   "source": []
  },
  {
   "cell_type": "code",
   "execution_count": null,
   "metadata": {
    "collapsed": true,
    "deletable": true,
    "editable": true
   },
   "outputs": [],
   "source": []
  }
 ],
 "metadata": {
  "kernelspec": {
   "display_name": "Python 2",
   "language": "python",
   "name": "python2"
  },
  "language_info": {
   "codemirror_mode": {
    "name": "ipython",
    "version": 2
   },
   "file_extension": ".py",
   "mimetype": "text/x-python",
   "name": "python",
   "nbconvert_exporter": "python",
   "pygments_lexer": "ipython2",
   "version": "2.7.10"
  }
 },
 "nbformat": 4,
 "nbformat_minor": 2
}
