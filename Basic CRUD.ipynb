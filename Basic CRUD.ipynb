{
 "cells": [
  {
   "cell_type": "code",
   "execution_count": 2,
   "metadata": {
    "collapsed": true,
    "deletable": true,
    "editable": true
   },
   "outputs": [],
   "source": [
    "# We'll be using python's request library to interact with elasticsearch's REST API \n",
    "\n",
    "from requests import get, post, put, delete"
   ]
  },
  {
   "cell_type": "markdown",
   "metadata": {
    "deletable": true,
    "editable": true
   },
   "source": [
    "### Creating & Checing Indices"
   ]
  },
  {
   "cell_type": "code",
   "execution_count": 3,
   "metadata": {
    "collapsed": false,
    "deletable": true,
    "editable": true
   },
   "outputs": [],
   "source": [
    "url = 'http://localhost:9200/courses?&pretty'\n",
    "resp = put(url)"
   ]
  },
  {
   "cell_type": "code",
   "execution_count": 4,
   "metadata": {
    "collapsed": false,
    "deletable": true,
    "editable": true
   },
   "outputs": [
    {
     "data": {
      "text/plain": [
       "{u'acknowledged': True, u'index': u'courses', u'shards_acknowledged': True}"
      ]
     },
     "execution_count": 4,
     "metadata": {},
     "output_type": "execute_result"
    }
   ],
   "source": [
    "resp.json()"
   ]
  },
  {
   "cell_type": "code",
   "execution_count": null,
   "metadata": {
    "collapsed": true
   },
   "outputs": [],
   "source": []
  },
  {
   "cell_type": "code",
   "execution_count": 5,
   "metadata": {
    "collapsed": false,
    "deletable": true,
    "editable": true
   },
   "outputs": [
    {
     "data": {
      "text/plain": [
       "u'health status index   uuid                   pri rep docs.count docs.deleted store.size pri.store.size\\nyellow open   courses Ubpbhk4-Q2SfTxautoqfBg   1   1          0            0       230b           230b\\n'"
      ]
     },
     "execution_count": 5,
     "metadata": {},
     "output_type": "execute_result"
    }
   ],
   "source": [
    "# Checking the index we have just created in above step.\n",
    "url = 'http://localhost:9200/_cat/indices?v&pretty'\n",
    "resp = get(url)\n",
    "resp.text"
   ]
  },
  {
   "cell_type": "markdown",
   "metadata": {
    "deletable": true,
    "editable": true
   },
   "source": [
    "### Creating a Document & Getting it back via Id"
   ]
  },
  {
   "cell_type": "code",
   "execution_count": 8,
   "metadata": {
    "collapsed": true,
    "deletable": true,
    "editable": true
   },
   "outputs": [],
   "source": [
    "data = {\n",
    "    'name': 'Python3',\n",
    "    'creditHours': 3,\n",
    "    'totalLectures': 30\n",
    "}"
   ]
  },
  {
   "cell_type": "code",
   "execution_count": 9,
   "metadata": {
    "collapsed": true,
    "deletable": true,
    "editable": true
   },
   "outputs": [],
   "source": [
    "url = 'http://localhost:9200/courses/programming/1?pretty'\n",
    "resp = put(url, json=data)"
   ]
  },
  {
   "cell_type": "code",
   "execution_count": 10,
   "metadata": {
    "collapsed": false,
    "deletable": true,
    "editable": true
   },
   "outputs": [
    {
     "data": {
      "text/plain": [
       "{u'_id': u'1',\n",
       " u'_index': u'courses',\n",
       " u'_primary_term': 1,\n",
       " u'_seq_no': 0,\n",
       " u'_shards': {u'failed': 0, u'successful': 1, u'total': 2},\n",
       " u'_type': u'programming',\n",
       " u'_version': 1,\n",
       " u'result': u'created'}"
      ]
     },
     "execution_count": 10,
     "metadata": {},
     "output_type": "execute_result"
    }
   ],
   "source": [
    "resp.json()"
   ]
  },
  {
   "cell_type": "code",
   "execution_count": 11,
   "metadata": {
    "collapsed": true,
    "deletable": true,
    "editable": true
   },
   "outputs": [],
   "source": [
    "data = {\n",
    "    'name': 'C++',\n",
    "    'creditHours': 4,\n",
    "    'totalLectures': 10\n",
    "}\n",
    "url = 'http://localhost:9200/courses/programming/2?pretty'\n",
    "resp = put(url, json=data)"
   ]
  },
  {
   "cell_type": "code",
   "execution_count": 12,
   "metadata": {
    "collapsed": false,
    "deletable": true,
    "editable": true
   },
   "outputs": [
    {
     "data": {
      "text/plain": [
       "{u'_id': u'2',\n",
       " u'_index': u'courses',\n",
       " u'_primary_term': 1,\n",
       " u'_seq_no': 1,\n",
       " u'_shards': {u'failed': 0, u'successful': 1, u'total': 2},\n",
       " u'_type': u'programming',\n",
       " u'_version': 1,\n",
       " u'result': u'created'}"
      ]
     },
     "execution_count": 12,
     "metadata": {},
     "output_type": "execute_result"
    }
   ],
   "source": [
    "resp.json()"
   ]
  },
  {
   "cell_type": "code",
   "execution_count": null,
   "metadata": {
    "collapsed": true,
    "deletable": true,
    "editable": true
   },
   "outputs": [],
   "source": []
  },
  {
   "cell_type": "code",
   "execution_count": 13,
   "metadata": {
    "collapsed": false,
    "deletable": true,
    "editable": true
   },
   "outputs": [
    {
     "data": {
      "text/plain": [
       "<Response [200]>"
      ]
     },
     "execution_count": 13,
     "metadata": {},
     "output_type": "execute_result"
    }
   ],
   "source": [
    "# Getting the document via ID\n",
    "\n",
    "url = 'http://localhost:9200/courses/programming/1?pretty' # &_source=false, &_source=name, &_source=name,totalLectures\n",
    "resp = get(url)\n",
    "resp"
   ]
  },
  {
   "cell_type": "code",
   "execution_count": 14,
   "metadata": {
    "collapsed": false,
    "deletable": true,
    "editable": true
   },
   "outputs": [
    {
     "data": {
      "text/plain": [
       "{u'_id': u'1',\n",
       " u'_index': u'courses',\n",
       " u'_primary_term': 1,\n",
       " u'_seq_no': 0,\n",
       " u'_source': {u'creditHours': 3, u'name': u'Python3', u'totalLectures': 30},\n",
       " u'_type': u'programming',\n",
       " u'_version': 1,\n",
       " u'found': True}"
      ]
     },
     "execution_count": 14,
     "metadata": {},
     "output_type": "execute_result"
    }
   ],
   "source": [
    "resp.json()"
   ]
  },
  {
   "cell_type": "code",
   "execution_count": null,
   "metadata": {
    "collapsed": true,
    "deletable": true,
    "editable": true
   },
   "outputs": [],
   "source": []
  },
  {
   "cell_type": "markdown",
   "metadata": {
    "deletable": true,
    "editable": true
   },
   "source": [
    "### Updating Documner"
   ]
  },
  {
   "cell_type": "code",
   "execution_count": 15,
   "metadata": {
    "collapsed": false,
    "deletable": true,
    "editable": true
   },
   "outputs": [
    {
     "data": {
      "text/plain": [
       "{u'_id': u'1',\n",
       " u'_index': u'courses',\n",
       " u'_primary_term': 1,\n",
       " u'_seq_no': 2,\n",
       " u'_shards': {u'failed': 0, u'successful': 1, u'total': 2},\n",
       " u'_type': u'programming',\n",
       " u'_version': 2,\n",
       " u'result': u'updated'}"
      ]
     },
     "execution_count": 15,
     "metadata": {},
     "output_type": "execute_result"
    }
   ],
   "source": [
    "# Updating whole document via pur request\n",
    "data = {\n",
    "    'name': 'Python3',\n",
    "    'creditHours': 3,\n",
    "    'totalLectures': 30\n",
    "}\n",
    "\n",
    "url = 'http://localhost:9200/courses/programming/1?pretty'\n",
    "resp = put(url, json=data)\n",
    "\n",
    "resp.json()"
   ]
  },
  {
   "cell_type": "code",
   "execution_count": 16,
   "metadata": {
    "collapsed": false,
    "deletable": true,
    "editable": true
   },
   "outputs": [
    {
     "data": {
      "text/plain": [
       "{u'_id': u'1',\n",
       " u'_index': u'courses',\n",
       " u'_primary_term': 1,\n",
       " u'_seq_no': 2,\n",
       " u'_shards': {u'failed': 0, u'successful': 0, u'total': 0},\n",
       " u'_type': u'programming',\n",
       " u'_version': 2,\n",
       " u'result': u'noop'}"
      ]
     },
     "execution_count": 16,
     "metadata": {},
     "output_type": "execute_result"
    }
   ],
   "source": [
    "# Updating a document via POST request\n",
    "\n",
    "url = 'http://localhost:9200/courses/programming/1/_update?pretty'\n",
    "data = {\n",
    "    'doc': {\n",
    "        'totalLectures': 30\n",
    "    }\n",
    "}\n",
    "\n",
    "resp = post(url, json=data)\n",
    "resp.json()"
   ]
  },
  {
   "cell_type": "code",
   "execution_count": 17,
   "metadata": {
    "collapsed": false,
    "deletable": true,
    "editable": true
   },
   "outputs": [
    {
     "data": {
      "text/plain": [
       "{u'_id': u'1',\n",
       " u'_index': u'courses',\n",
       " u'_primary_term': 1,\n",
       " u'_seq_no': 3,\n",
       " u'_shards': {u'failed': 0, u'successful': 1, u'total': 2},\n",
       " u'_type': u'programming',\n",
       " u'_version': 3,\n",
       " u'result': u'updated'}"
      ]
     },
     "execution_count": 17,
     "metadata": {},
     "output_type": "execute_result"
    }
   ],
   "source": [
    "# Updating the document via script\n",
    "url = 'http://localhost:9200/courses/programming/1/_update?pretty'\n",
    "data = {\n",
    "    'script': 'ctx._source.totalLectures += 2'\n",
    "}\n",
    "resp = post(url, json=data)\n",
    "resp.json()"
   ]
  },
  {
   "cell_type": "code",
   "execution_count": 18,
   "metadata": {
    "collapsed": false,
    "deletable": true,
    "editable": true
   },
   "outputs": [
    {
     "data": {
      "text/plain": [
       "{u'_id': u'1',\n",
       " u'_index': u'courses',\n",
       " u'_primary_term': 1,\n",
       " u'_seq_no': 3,\n",
       " u'_source': {u'creditHours': 3, u'name': u'Python3', u'totalLectures': 32},\n",
       " u'_type': u'programming',\n",
       " u'_version': 3,\n",
       " u'found': True}"
      ]
     },
     "execution_count": 18,
     "metadata": {},
     "output_type": "execute_result"
    }
   ],
   "source": [
    "url = 'http://localhost:9200/courses/programming/1?pretty' # &_source=false, &_source=name, &_source=name,totalLectures\n",
    "resp = get(url)\n",
    "resp.json()"
   ]
  },
  {
   "cell_type": "code",
   "execution_count": null,
   "metadata": {
    "collapsed": false,
    "deletable": true,
    "editable": true
   },
   "outputs": [],
   "source": []
  },
  {
   "cell_type": "markdown",
   "metadata": {
    "deletable": true,
    "editable": true
   },
   "source": [
    "### Deleting a document"
   ]
  },
  {
   "cell_type": "code",
   "execution_count": 19,
   "metadata": {
    "collapsed": false,
    "deletable": true,
    "editable": true
   },
   "outputs": [
    {
     "data": {
      "text/plain": [
       "{u'_id': u'1',\n",
       " u'_index': u'courses',\n",
       " u'_primary_term': 1,\n",
       " u'_seq_no': 4,\n",
       " u'_shards': {u'failed': 0, u'successful': 1, u'total': 2},\n",
       " u'_type': u'programming',\n",
       " u'_version': 4,\n",
       " u'result': u'deleted'}"
      ]
     },
     "execution_count": 19,
     "metadata": {},
     "output_type": "execute_result"
    }
   ],
   "source": [
    "url = 'http://localhost:9200/courses/programming/1?pretty'\n",
    "resp = delete(url)\n",
    "resp.json()"
   ]
  },
  {
   "cell_type": "code",
   "execution_count": null,
   "metadata": {
    "collapsed": true,
    "deletable": true,
    "editable": true
   },
   "outputs": [],
   "source": []
  },
  {
   "cell_type": "markdown",
   "metadata": {
    "deletable": true,
    "editable": true
   },
   "source": [
    "### Deleting an entire index"
   ]
  },
  {
   "cell_type": "code",
   "execution_count": 61,
   "metadata": {
    "collapsed": false,
    "deletable": true,
    "editable": true
   },
   "outputs": [
    {
     "data": {
      "text/plain": [
       "{u'acknowledged': True}"
      ]
     },
     "execution_count": 61,
     "metadata": {},
     "output_type": "execute_result"
    }
   ],
   "source": [
    "# If you delete the entire index, you'll loose your data. Be careful!\n",
    "url = 'http://localhost:9200/courses?pretty'\n",
    "resp = delete(url)\n",
    "resp.json()"
   ]
  },
  {
   "cell_type": "code",
   "execution_count": null,
   "metadata": {
    "collapsed": true,
    "deletable": true,
    "editable": true
   },
   "outputs": [],
   "source": []
  },
  {
   "cell_type": "markdown",
   "metadata": {
    "deletable": true,
    "editable": true
   },
   "source": [
    "### Getting multiple documents using mGet"
   ]
  },
  {
   "cell_type": "code",
   "execution_count": 20,
   "metadata": {
    "collapsed": true,
    "deletable": true,
    "editable": true
   },
   "outputs": [],
   "source": [
    "url = 'http://localhost:9200/_mget?pretty'\n",
    "data = {\n",
    "    'docs': [\n",
    "        {\n",
    "            '_index': 'courses',\n",
    "            '_type': 'programming',\n",
    "            '_id': 1\n",
    "        },\n",
    "        {\n",
    "            '_index': 'courses',\n",
    "            '_type': 'programming',\n",
    "            '_id': 2\n",
    "        },\n",
    "    ]\n",
    "}\n",
    "resp = post(url, json=data)"
   ]
  },
  {
   "cell_type": "code",
   "execution_count": 21,
   "metadata": {
    "collapsed": false,
    "deletable": true,
    "editable": true
   },
   "outputs": [
    {
     "data": {
      "text/plain": [
       "{u'docs': [{u'_id': u'1',\n",
       "   u'_index': u'courses',\n",
       "   u'_type': u'programming',\n",
       "   u'found': False},\n",
       "  {u'_id': u'2',\n",
       "   u'_index': u'courses',\n",
       "   u'_primary_term': 1,\n",
       "   u'_seq_no': 1,\n",
       "   u'_source': {u'creditHours': 4, u'name': u'C++', u'totalLectures': 10},\n",
       "   u'_type': u'programming',\n",
       "   u'_version': 1,\n",
       "   u'found': True}]}"
      ]
     },
     "execution_count": 21,
     "metadata": {},
     "output_type": "execute_result"
    }
   ],
   "source": [
    "resp.json()"
   ]
  },
  {
   "cell_type": "code",
   "execution_count": 22,
   "metadata": {
    "collapsed": false,
    "deletable": true,
    "editable": true
   },
   "outputs": [
    {
     "data": {
      "text/plain": [
       "{u'docs': [{u'_id': u'2',\n",
       "   u'_index': u'courses',\n",
       "   u'_primary_term': 1,\n",
       "   u'_seq_no': 1,\n",
       "   u'_source': {u'creditHours': 4, u'name': u'C++', u'totalLectures': 10},\n",
       "   u'_type': u'programming',\n",
       "   u'_version': 1,\n",
       "   u'found': True},\n",
       "  {u'_id': u'2',\n",
       "   u'_index': u'courses',\n",
       "   u'_primary_term': 1,\n",
       "   u'_seq_no': 1,\n",
       "   u'_source': {u'creditHours': 4, u'name': u'C++', u'totalLectures': 10},\n",
       "   u'_type': u'programming',\n",
       "   u'_version': 1,\n",
       "   u'found': True}]}"
      ]
     },
     "execution_count": 22,
     "metadata": {},
     "output_type": "execute_result"
    }
   ],
   "source": [
    "# The above request can used as follows\n",
    "url = 'http://localhost:9200/courses/programming/_mget?pretty'\n",
    "data = {\n",
    "    'docs': [\n",
    "        {\n",
    "            '_id':2\n",
    "        },\n",
    "        {\n",
    "            '_id': 2\n",
    "        },\n",
    "    ]\n",
    "}\n",
    "resp = post(url, json=data)\n",
    "resp.json()"
   ]
  },
  {
   "cell_type": "code",
   "execution_count": null,
   "metadata": {
    "collapsed": true,
    "deletable": true,
    "editable": true
   },
   "outputs": [],
   "source": []
  },
  {
   "cell_type": "markdown",
   "metadata": {
    "deletable": true,
    "editable": true
   },
   "source": [
    "### Bulk loading via json file"
   ]
  },
  {
   "cell_type": "code",
   "execution_count": 24,
   "metadata": {
    "collapsed": false,
    "deletable": true,
    "editable": true
   },
   "outputs": [
    {
     "data": {
      "text/plain": [
       "<Response [200]>"
      ]
     },
     "execution_count": 24,
     "metadata": {},
     "output_type": "execute_result"
    }
   ],
   "source": [
    "# Loading file into elastic index students\n",
    "\n",
    "url = 'http://localhost:9200/students/personal/_bulk?pretty&refresh'\n",
    "data = open('students_full.json', 'rb').read()\n",
    "headers = {\n",
    "    \"Content-Type\":\"application/x-ndjson\",\n",
    "}\n",
    "resp = post(url,data=data,headers=headers)\n",
    "resp"
   ]
  },
  {
   "cell_type": "code",
   "execution_count": null,
   "metadata": {
    "collapsed": true,
    "deletable": true,
    "editable": true
   },
   "outputs": [],
   "source": []
  },
  {
   "cell_type": "code",
   "execution_count": null,
   "metadata": {
    "collapsed": true,
    "deletable": true,
    "editable": true
   },
   "outputs": [],
   "source": []
  },
  {
   "cell_type": "code",
   "execution_count": null,
   "metadata": {
    "collapsed": true,
    "deletable": true,
    "editable": true
   },
   "outputs": [],
   "source": []
  }
 ],
 "metadata": {
  "kernelspec": {
   "display_name": "Python 2",
   "language": "python",
   "name": "python2"
  },
  "language_info": {
   "codemirror_mode": {
    "name": "ipython",
    "version": 2
   },
   "file_extension": ".py",
   "mimetype": "text/x-python",
   "name": "python",
   "nbconvert_exporter": "python",
   "pygments_lexer": "ipython2",
   "version": "2.7.10"
  }
 },
 "nbformat": 4,
 "nbformat_minor": 2
}
