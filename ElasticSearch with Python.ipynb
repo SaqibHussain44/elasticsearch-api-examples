{
 "cells": [
  {
   "cell_type": "code",
   "execution_count": 1,
   "metadata": {
    "collapsed": true,
    "deletable": true,
    "editable": true
   },
   "outputs": [],
   "source": [
    "from elasticsearch import Elasticsearch"
   ]
  },
  {
   "cell_type": "code",
   "execution_count": 2,
   "metadata": {
    "collapsed": true,
    "deletable": true,
    "editable": true
   },
   "outputs": [],
   "source": [
    "es = Elasticsearch(['localhost:9200'])"
   ]
  },
  {
   "cell_type": "code",
   "execution_count": 3,
   "metadata": {
    "collapsed": false,
    "deletable": true,
    "editable": true
   },
   "outputs": [
    {
     "name": "stdout",
     "output_type": "stream",
     "text": [
      "{u'status': u'yellow', u'number_of_nodes': 1, u'unassigned_shards': 3, u'number_of_pending_tasks': 0, u'number_of_in_flight_fetch': 0, u'timed_out': False, u'active_primary_shards': 3, u'task_max_waiting_in_queue_millis': 0, u'cluster_name': u'docker-cluster', u'relocating_shards': 0, u'active_shards_percent_as_number': 50.0, u'active_shards': 3, u'initializing_shards': 0, u'number_of_data_nodes': 1, u'delayed_unassigned_shards': 0}\n"
     ]
    }
   ],
   "source": [
    "print es.cluster.health()"
   ]
  },
  {
   "cell_type": "code",
   "execution_count": 4,
   "metadata": {
    "collapsed": true,
    "deletable": true,
    "editable": true
   },
   "outputs": [],
   "source": [
    "import json\n",
    "\n",
    "def print_json(j):\n",
    "    print json.dumps(j, indent=4, sort_keys=True)"
   ]
  },
  {
   "cell_type": "code",
   "execution_count": 5,
   "metadata": {
    "collapsed": false,
    "deletable": true,
    "editable": true
   },
   "outputs": [
    {
     "name": "stdout",
     "output_type": "stream",
     "text": [
      "{\n",
      "    \"active_primary_shards\": 3, \n",
      "    \"active_shards\": 3, \n",
      "    \"active_shards_percent_as_number\": 50.0, \n",
      "    \"cluster_name\": \"docker-cluster\", \n",
      "    \"delayed_unassigned_shards\": 0, \n",
      "    \"initializing_shards\": 0, \n",
      "    \"number_of_data_nodes\": 1, \n",
      "    \"number_of_in_flight_fetch\": 0, \n",
      "    \"number_of_nodes\": 1, \n",
      "    \"number_of_pending_tasks\": 0, \n",
      "    \"relocating_shards\": 0, \n",
      "    \"status\": \"yellow\", \n",
      "    \"task_max_waiting_in_queue_millis\": 0, \n",
      "    \"timed_out\": false, \n",
      "    \"unassigned_shards\": 3\n",
      "}\n"
     ]
    }
   ],
   "source": [
    "print_json(es.cluster.health())"
   ]
  },
  {
   "cell_type": "code",
   "execution_count": 6,
   "metadata": {
    "collapsed": false,
    "deletable": true,
    "editable": true
   },
   "outputs": [
    {
     "name": "stdout",
     "output_type": "stream",
     "text": [
      "{\n",
      "    \"active_primary_shards\": 1, \n",
      "    \"active_shards\": 1, \n",
      "    \"active_shards_percent_as_number\": 50.0, \n",
      "    \"cluster_name\": \"docker-cluster\", \n",
      "    \"delayed_unassigned_shards\": 0, \n",
      "    \"initializing_shards\": 0, \n",
      "    \"number_of_data_nodes\": 1, \n",
      "    \"number_of_in_flight_fetch\": 0, \n",
      "    \"number_of_nodes\": 1, \n",
      "    \"number_of_pending_tasks\": 0, \n",
      "    \"relocating_shards\": 0, \n",
      "    \"status\": \"yellow\", \n",
      "    \"task_max_waiting_in_queue_millis\": 0, \n",
      "    \"timed_out\": false, \n",
      "    \"unassigned_shards\": 1\n",
      "}\n"
     ]
    }
   ],
   "source": [
    "print_json(es.cluster.health(index='accounts', level='cluster'))"
   ]
  },
  {
   "cell_type": "code",
   "execution_count": 7,
   "metadata": {
    "collapsed": false,
    "deletable": true,
    "editable": true
   },
   "outputs": [],
   "source": [
    "print_json(es.cluster.stats()) # OR state"
   ]
  },
  {
   "cell_type": "code",
   "execution_count": null,
   "metadata": {
    "collapsed": true,
    "deletable": true,
    "editable": true
   },
   "outputs": [],
   "source": []
  },
  {
   "cell_type": "code",
   "execution_count": 8,
   "metadata": {
    "collapsed": false,
    "deletable": true,
    "editable": true
   },
   "outputs": [
    {
     "data": {
      "text/plain": [
       "{u'acknowledged': True, u'index': u'leads', u'shards_acknowledged': True}"
      ]
     },
     "execution_count": 8,
     "metadata": {},
     "output_type": "execute_result"
    }
   ],
   "source": [
    "es.indices.create(index='leads', ignore=400) # For ignoring errors like index already exists"
   ]
  },
  {
   "cell_type": "code",
   "execution_count": null,
   "metadata": {
    "collapsed": true,
    "deletable": true,
    "editable": true
   },
   "outputs": [],
   "source": []
  },
  {
   "cell_type": "code",
   "execution_count": 9,
   "metadata": {
    "collapsed": false,
    "deletable": true,
    "editable": true
   },
   "outputs": [
    {
     "data": {
      "text/plain": [
       "True"
      ]
     },
     "execution_count": 9,
     "metadata": {},
     "output_type": "execute_result"
    }
   ],
   "source": [
    "es.indices.exists(index='leads') # For ignoring errors like index already exists"
   ]
  },
  {
   "cell_type": "code",
   "execution_count": 10,
   "metadata": {
    "collapsed": false,
    "deletable": true,
    "editable": true
   },
   "outputs": [
    {
     "name": "stdout",
     "output_type": "stream",
     "text": [
      "{\n",
      "    \"pos\": {\n",
      "        \"aliases\": {}, \n",
      "        \"mappings\": {\n",
      "            \"properties\": {\n",
      "                \"corp_week\": {\n",
      "                    \"type\": \"long\"\n",
      "                }, \n",
      "                \"downPayment\": {\n",
      "                    \"type\": \"float\"\n",
      "                }, \n",
      "                \"finalDisposition\": {\n",
      "                    \"fields\": {\n",
      "                        \"keyword\": {\n",
      "                            \"ignore_above\": 256, \n",
      "                            \"type\": \"keyword\"\n",
      "                        }\n",
      "                    }, \n",
      "                    \"type\": \"text\"\n",
      "                }, \n",
      "                \"isTrialMembership\": {\n",
      "                    \"type\": \"boolean\"\n",
      "                }, \n",
      "                \"loanDate\": {\n",
      "                    \"fields\": {\n",
      "                        \"keyword\": {\n",
      "                            \"ignore_above\": 256, \n",
      "                            \"type\": \"keyword\"\n",
      "                        }\n",
      "                    }, \n",
      "                    \"type\": \"text\"\n",
      "                }, \n",
      "                \"location\": {\n",
      "                    \"fields\": {\n",
      "                        \"keyword\": {\n",
      "                            \"ignore_above\": 256, \n",
      "                            \"type\": \"keyword\"\n",
      "                        }\n",
      "                    }, \n",
      "                    \"type\": \"text\"\n",
      "                }, \n",
      "                \"orderId\": {\n",
      "                    \"type\": \"long\"\n",
      "                }, \n",
      "                \"salePrice\": {\n",
      "                    \"type\": \"float\"\n",
      "                }, \n",
      "                \"tourDate\": {\n",
      "                    \"fields\": {\n",
      "                        \"keyword\": {\n",
      "                            \"ignore_above\": 256, \n",
      "                            \"type\": \"keyword\"\n",
      "                        }\n",
      "                    }, \n",
      "                    \"type\": \"text\"\n",
      "                }, \n",
      "                \"tour_corp_week\": {\n",
      "                    \"type\": \"long\"\n",
      "                }\n",
      "            }\n",
      "        }, \n",
      "        \"settings\": {\n",
      "            \"index\": {\n",
      "                \"creation_date\": \"1585231603664\", \n",
      "                \"number_of_replicas\": \"1\", \n",
      "                \"number_of_shards\": \"1\", \n",
      "                \"provided_name\": \"pos\", \n",
      "                \"uuid\": \"YO-GoXw5RzCZOv2UrCfCTw\", \n",
      "                \"version\": {\n",
      "                    \"created\": \"7060199\"\n",
      "                }\n",
      "            }\n",
      "        }\n",
      "    }\n",
      "}\n"
     ]
    }
   ],
   "source": [
    "print_json(es.indices.get(index='pos'))"
   ]
  },
  {
   "cell_type": "code",
   "execution_count": null,
   "metadata": {
    "collapsed": true,
    "deletable": true,
    "editable": true
   },
   "outputs": [],
   "source": []
  },
  {
   "cell_type": "code",
   "execution_count": 11,
   "metadata": {
    "collapsed": false,
    "deletable": true,
    "editable": true
   },
   "outputs": [
    {
     "data": {
      "text/plain": [
       "{u'_shards': {u'failed': 0, u'successful': 1, u'total': 1}, u'valid': True}"
      ]
     },
     "execution_count": 11,
     "metadata": {},
     "output_type": "execute_result"
    }
   ],
   "source": [
    "query = {\n",
    "    'query': {\n",
    "        'prefix': {\n",
    "            'location': 'R'\n",
    "        }\n",
    "    }\n",
    "}\n",
    "\n",
    "es.indices.validate_query(index='pos', body=query)"
   ]
  },
  {
   "cell_type": "code",
   "execution_count": 12,
   "metadata": {
    "collapsed": false,
    "deletable": true,
    "editable": true
   },
   "outputs": [
    {
     "data": {
      "text/plain": [
       "{u'_shards': {u'failed': 0, u'successful': 1, u'total': 1}, u'valid': True}"
      ]
     },
     "execution_count": 12,
     "metadata": {},
     "output_type": "execute_result"
    }
   ],
   "source": [
    "query = {\n",
    "    'query': {\n",
    "        'match_phrase': {\n",
    "            'location': 'R'\n",
    "        }\n",
    "    }\n",
    "}\n",
    "\n",
    "es.indices.validate_query(index='pos', body=query)"
   ]
  },
  {
   "cell_type": "code",
   "execution_count": 13,
   "metadata": {
    "collapsed": false,
    "deletable": true,
    "editable": true
   },
   "outputs": [
    {
     "data": {
      "text/plain": [
       "{u'valid': False}"
      ]
     },
     "execution_count": 13,
     "metadata": {},
     "output_type": "execute_result"
    }
   ],
   "source": [
    "query = {\n",
    "    'query': {\n",
    "        'match_phras': {\n",
    "            'location': 'R'\n",
    "        }\n",
    "    }\n",
    "}\n",
    "\n",
    "es.indices.validate_query(index='pos', body=query)"
   ]
  },
  {
   "cell_type": "code",
   "execution_count": null,
   "metadata": {
    "collapsed": true,
    "deletable": true,
    "editable": true
   },
   "outputs": [],
   "source": []
  },
  {
   "cell_type": "code",
   "execution_count": 14,
   "metadata": {
    "collapsed": false,
    "deletable": true,
    "editable": true
   },
   "outputs": [
    {
     "data": {
      "text/plain": [
       "{u'acknowledged': True}"
      ]
     },
     "execution_count": 14,
     "metadata": {},
     "output_type": "execute_result"
    }
   ],
   "source": [
    "# deleting an index\n",
    "es.indices.delete(index='leads', ignore=[400, 404])"
   ]
  },
  {
   "cell_type": "code",
   "execution_count": null,
   "metadata": {
    "collapsed": true,
    "deletable": true,
    "editable": true
   },
   "outputs": [],
   "source": []
  },
  {
   "cell_type": "markdown",
   "metadata": {
    "deletable": true,
    "editable": true
   },
   "source": [
    "## Documents"
   ]
  },
  {
   "cell_type": "code",
   "execution_count": 15,
   "metadata": {
    "collapsed": false,
    "deletable": true,
    "editable": true
   },
   "outputs": [
    {
     "data": {
      "text/plain": [
       "{u'acknowledged': True, u'index': u'courses', u'shards_acknowledged': True}"
      ]
     },
     "execution_count": 15,
     "metadata": {},
     "output_type": "execute_result"
    }
   ],
   "source": [
    "es.indices.create(index='courses')"
   ]
  },
  {
   "cell_type": "code",
   "execution_count": 16,
   "metadata": {
    "collapsed": false,
    "deletable": true,
    "editable": true
   },
   "outputs": [
    {
     "data": {
      "text/plain": [
       "{u'_id': u'123',\n",
       " u'_index': u'courses',\n",
       " u'_primary_term': 1,\n",
       " u'_seq_no': 0,\n",
       " u'_shards': {u'failed': 0, u'successful': 1, u'total': 2},\n",
       " u'_type': u'programming',\n",
       " u'_version': 1,\n",
       " u'result': u'created'}"
      ]
     },
     "execution_count": 16,
     "metadata": {},
     "output_type": "execute_result"
    }
   ],
   "source": [
    "data = {\n",
    "    'name': 'Python3',\n",
    "    'creditHours': 3,\n",
    "    'totalLectures': 30\n",
    "}\n",
    "\n",
    "es.create(index='courses', doc_type='programming', id=123, body=data)"
   ]
  },
  {
   "cell_type": "code",
   "execution_count": 27,
   "metadata": {
    "collapsed": false,
    "deletable": true,
    "editable": true
   },
   "outputs": [
    {
     "data": {
      "text/plain": [
       "{u'_id': u'124',\n",
       " u'_index': u'courses',\n",
       " u'_primary_term': 1,\n",
       " u'_seq_no': 3,\n",
       " u'_shards': {u'failed': 0, u'successful': 1, u'total': 2},\n",
       " u'_type': u'programming',\n",
       " u'_version': 1,\n",
       " u'result': u'created'}"
      ]
     },
     "execution_count": 27,
     "metadata": {},
     "output_type": "execute_result"
    }
   ],
   "source": [
    "data = {\n",
    "    'name': 'Java',\n",
    "    'creditHours': 2,\n",
    "    'totalLectures': 20\n",
    "}\n",
    "\n",
    "es.create(index='courses', doc_type='programming', id=124, body=data)"
   ]
  },
  {
   "cell_type": "code",
   "execution_count": 28,
   "metadata": {
    "collapsed": false,
    "deletable": true,
    "editable": true
   },
   "outputs": [
    {
     "name": "stdout",
     "output_type": "stream",
     "text": [
      "{\n",
      "    \"_id\": \"124\", \n",
      "    \"_index\": \"courses\", \n",
      "    \"_primary_term\": 1, \n",
      "    \"_seq_no\": 3, \n",
      "    \"_source\": {\n",
      "        \"creditHours\": 2, \n",
      "        \"name\": \"Java\", \n",
      "        \"totalLectures\": 20\n",
      "    }, \n",
      "    \"_type\": \"programming\", \n",
      "    \"_version\": 1, \n",
      "    \"found\": true\n",
      "}\n"
     ]
    }
   ],
   "source": [
    "# Getting some data\n",
    "\n",
    "print_json(es.get(index='courses', doc_type='programming', id=124))"
   ]
  },
  {
   "cell_type": "code",
   "execution_count": null,
   "metadata": {
    "collapsed": true,
    "deletable": true,
    "editable": true
   },
   "outputs": [],
   "source": []
  },
  {
   "cell_type": "code",
   "execution_count": 19,
   "metadata": {
    "collapsed": false,
    "deletable": true,
    "editable": true
   },
   "outputs": [
    {
     "name": "stdout",
     "output_type": "stream",
     "text": [
      "{\n",
      "    \"_id\": \"124\", \n",
      "    \"_index\": \"courses\", \n",
      "    \"_primary_term\": 1, \n",
      "    \"_seq_no\": 1, \n",
      "    \"_source\": {}, \n",
      "    \"_type\": \"programming\", \n",
      "    \"_version\": 1, \n",
      "    \"found\": true\n",
      "}\n"
     ]
    }
   ],
   "source": [
    "print_json(es.get(index='courses', doc_type='programming', id=124, _source='False'))"
   ]
  },
  {
   "cell_type": "code",
   "execution_count": 25,
   "metadata": {
    "collapsed": false,
    "deletable": true,
    "editable": true
   },
   "outputs": [
    {
     "name": "stdout",
     "output_type": "stream",
     "text": [
      "{\n",
      "    \"_id\": \"124\", \n",
      "    \"_index\": \"courses\", \n",
      "    \"_primary_term\": 1, \n",
      "    \"_seq_no\": 1, \n",
      "    \"_source\": {\n",
      "        \"name\": \"Java\"\n",
      "    }, \n",
      "    \"_type\": \"programming\", \n",
      "    \"_version\": 1, \n",
      "    \"found\": true\n",
      "}\n"
     ]
    }
   ],
   "source": [
    "print_json(es.get(index='courses', doc_type='programming', id=124, _source='name'))"
   ]
  },
  {
   "cell_type": "code",
   "execution_count": null,
   "metadata": {
    "collapsed": true,
    "deletable": true,
    "editable": true
   },
   "outputs": [],
   "source": []
  },
  {
   "cell_type": "code",
   "execution_count": 34,
   "metadata": {
    "collapsed": false,
    "deletable": true,
    "editable": true
   },
   "outputs": [
    {
     "name": "stdout",
     "output_type": "stream",
     "text": [
      "{\n",
      "    \"_id\": \"124\", \n",
      "    \"_index\": \"courses\", \n",
      "    \"_primary_term\": 1, \n",
      "    \"_seq_no\": 8, \n",
      "    \"_shards\": {\n",
      "        \"failed\": 0, \n",
      "        \"successful\": 1, \n",
      "        \"total\": 2\n",
      "    }, \n",
      "    \"_type\": \"programming\", \n",
      "    \"_version\": 6, \n",
      "    \"result\": \"not_found\"\n",
      "}\n"
     ]
    }
   ],
   "source": [
    "print_json(es.delete(index='courses', doc_type='programming', id=124, ignore=[400, 404]))"
   ]
  },
  {
   "cell_type": "code",
   "execution_count": 35,
   "metadata": {
    "collapsed": false,
    "deletable": true,
    "editable": true
   },
   "outputs": [
    {
     "data": {
      "text/plain": [
       "{u'batches': 0,\n",
       " u'deleted': 0,\n",
       " u'failures': [],\n",
       " u'noops': 0,\n",
       " u'requests_per_second': -1.0,\n",
       " u'retries': {u'bulk': 0, u'search': 0},\n",
       " u'throttled_millis': 0,\n",
       " u'throttled_until_millis': 0,\n",
       " u'timed_out': False,\n",
       " u'took': 70,\n",
       " u'total': 0,\n",
       " u'version_conflicts': 0}"
      ]
     },
     "execution_count": 35,
     "metadata": {},
     "output_type": "execute_result"
    }
   ],
   "source": [
    "# Deleting by query\n",
    "es.delete_by_query(index='courses', body={\n",
    "    'query': {\n",
    "        'match': {\n",
    "            'name': 'Java'\n",
    "        }\n",
    "    }\n",
    "})"
   ]
  },
  {
   "cell_type": "code",
   "execution_count": null,
   "metadata": {
    "collapsed": true,
    "deletable": true,
    "editable": true
   },
   "outputs": [],
   "source": []
  },
  {
   "cell_type": "markdown",
   "metadata": {
    "deletable": true,
    "editable": true
   },
   "source": [
    "### Search & Aggregations"
   ]
  },
  {
   "cell_type": "code",
   "execution_count": 36,
   "metadata": {
    "collapsed": false,
    "deletable": true,
    "editable": true
   },
   "outputs": [
    {
     "data": {
      "text/plain": [
       "{u'_shards': {u'failed': 0, u'skipped': 0, u'successful': 1, u'total': 1},\n",
       " u'hits': {u'hits': [{u'_id': u'10296063',\n",
       "    u'_index': u'pos',\n",
       "    u'_score': 1.0,\n",
       "    u'_source': {u'corp_week': 0,\n",
       "     u'downPayment': 0.0,\n",
       "     u'finalDisposition': u'No Show',\n",
       "     u'isTrialMembership': False,\n",
       "     u'loanDate': u'',\n",
       "     u'location': u'RFR',\n",
       "     u'orderId': 10296063,\n",
       "     u'salePrice': 0.0,\n",
       "     u'tourDate': u'2020-01-02 00:00:00',\n",
       "     u'tour_corp_week': 3401},\n",
       "    u'_type': u'tours'},\n",
       "   {u'_id': u'10293829',\n",
       "    u'_index': u'pos',\n",
       "    u'_score': 1.0,\n",
       "    u'_source': {u'corp_week': 0,\n",
       "     u'downPayment': 0.0,\n",
       "     u'finalDisposition': u'No Sale',\n",
       "     u'isTrialMembership': False,\n",
       "     u'loanDate': u'',\n",
       "     u'location': u'LSR',\n",
       "     u'orderId': 10293829,\n",
       "     u'salePrice': 0.0,\n",
       "     u'tourDate': u'2020-01-03 00:00:00',\n",
       "     u'tour_corp_week': 3401},\n",
       "    u'_type': u'tours'},\n",
       "   {u'_id': u'10298330',\n",
       "    u'_index': u'pos',\n",
       "    u'_score': 1.0,\n",
       "    u'_source': {u'corp_week': 0,\n",
       "     u'downPayment': 0.0,\n",
       "     u'finalDisposition': u'No Sale',\n",
       "     u'isTrialMembership': False,\n",
       "     u'loanDate': u'',\n",
       "     u'location': u'LSR',\n",
       "     u'orderId': 10298330,\n",
       "     u'salePrice': 0.0,\n",
       "     u'tourDate': u'2020-01-02 00:00:00',\n",
       "     u'tour_corp_week': 3401},\n",
       "    u'_type': u'tours'},\n",
       "   {u'_id': u'10298473',\n",
       "    u'_index': u'pos',\n",
       "    u'_score': 1.0,\n",
       "    u'_source': {u'corp_week': 3401,\n",
       "     u'downPayment': 0.0,\n",
       "     u'finalDisposition': u'No Sale',\n",
       "     u'isTrialMembership': True,\n",
       "     u'loanDate': u'2020-01-02 00:00:00',\n",
       "     u'location': u'TNC',\n",
       "     u'orderId': 10298473,\n",
       "     u'salePrice': 0.0,\n",
       "     u'tourDate': u'2020-01-02 00:00:00',\n",
       "     u'tour_corp_week': 3401},\n",
       "    u'_type': u'tours'},\n",
       "   {u'_id': u'10298364',\n",
       "    u'_index': u'pos',\n",
       "    u'_score': 1.0,\n",
       "    u'_source': {u'corp_week': 3401,\n",
       "     u'downPayment': -758.0,\n",
       "     u'finalDisposition': u'No Sale',\n",
       "     u'isTrialMembership': True,\n",
       "     u'loanDate': u'2020-01-02 00:00:00',\n",
       "     u'location': u'BLR',\n",
       "     u'orderId': 10298364,\n",
       "     u'salePrice': 2495.0,\n",
       "     u'tourDate': u'2020-01-02 00:00:00',\n",
       "     u'tour_corp_week': 3401},\n",
       "    u'_type': u'tours'},\n",
       "   {u'_id': u'10298443',\n",
       "    u'_index': u'pos',\n",
       "    u'_score': 1.0,\n",
       "    u'_source': {u'corp_week': 0,\n",
       "     u'downPayment': 0.0,\n",
       "     u'finalDisposition': u'No Sale',\n",
       "     u'isTrialMembership': True,\n",
       "     u'loanDate': u'',\n",
       "     u'location': u'TNC',\n",
       "     u'orderId': 10298443,\n",
       "     u'salePrice': 0.0,\n",
       "     u'tourDate': u'2020-01-02 00:00:00',\n",
       "     u'tour_corp_week': 3401},\n",
       "    u'_type': u'tours'},\n",
       "   {u'_id': u'10298524',\n",
       "    u'_index': u'pos',\n",
       "    u'_score': 1.0,\n",
       "    u'_source': {u'corp_week': 0,\n",
       "     u'downPayment': 0.0,\n",
       "     u'finalDisposition': u'No Sale',\n",
       "     u'isTrialMembership': False,\n",
       "     u'loanDate': u'',\n",
       "     u'location': u'TNC',\n",
       "     u'orderId': 10298524,\n",
       "     u'salePrice': 0.0,\n",
       "     u'tourDate': u'2020-01-02 00:00:00',\n",
       "     u'tour_corp_week': 3401},\n",
       "    u'_type': u'tours'},\n",
       "   {u'_id': u'10298394',\n",
       "    u'_index': u'pos',\n",
       "    u'_score': 1.0,\n",
       "    u'_source': {u'corp_week': 0,\n",
       "     u'downPayment': 0.0,\n",
       "     u'finalDisposition': u'No Show',\n",
       "     u'isTrialMembership': False,\n",
       "     u'loanDate': u'',\n",
       "     u'location': u'NSL',\n",
       "     u'orderId': 10298394,\n",
       "     u'salePrice': 0.0,\n",
       "     u'tourDate': u'2020-01-02 00:00:00',\n",
       "     u'tour_corp_week': 3401},\n",
       "    u'_type': u'tours'},\n",
       "   {u'_id': u'10298274',\n",
       "    u'_index': u'pos',\n",
       "    u'_score': 1.0,\n",
       "    u'_source': {u'corp_week': 0,\n",
       "     u'downPayment': 0.0,\n",
       "     u'finalDisposition': u'No Show',\n",
       "     u'isTrialMembership': False,\n",
       "     u'loanDate': u'',\n",
       "     u'location': u'TRG',\n",
       "     u'orderId': 10298274,\n",
       "     u'salePrice': 0.0,\n",
       "     u'tourDate': u'2020-01-02 00:00:00',\n",
       "     u'tour_corp_week': 3401},\n",
       "    u'_type': u'tours'},\n",
       "   {u'_id': u'10298407',\n",
       "    u'_index': u'pos',\n",
       "    u'_score': 1.0,\n",
       "    u'_source': {u'corp_week': 0,\n",
       "     u'downPayment': 0.0,\n",
       "     u'finalDisposition': u'No Show',\n",
       "     u'isTrialMembership': False,\n",
       "     u'loanDate': u'',\n",
       "     u'location': u'TRG',\n",
       "     u'orderId': 10298407,\n",
       "     u'salePrice': 0.0,\n",
       "     u'tourDate': u'2020-01-02 00:00:00',\n",
       "     u'tour_corp_week': 3401},\n",
       "    u'_type': u'tours'}],\n",
       "  u'max_score': 1.0,\n",
       "  u'total': {u'relation': u'eq', u'value': 4959}},\n",
       " u'timed_out': False,\n",
       " u'took': 9}"
      ]
     },
     "execution_count": 36,
     "metadata": {},
     "output_type": "execute_result"
    }
   ],
   "source": [
    "es.search(index='pos')"
   ]
  },
  {
   "cell_type": "code",
   "execution_count": 37,
   "metadata": {
    "collapsed": false,
    "deletable": true,
    "editable": true
   },
   "outputs": [
    {
     "data": {
      "text/plain": [
       "{u'_shards': {u'failed': 0, u'skipped': 0, u'successful': 1, u'total': 1},\n",
       " u'hits': {u'hits': [{u'_id': u'10296063',\n",
       "    u'_index': u'pos',\n",
       "    u'_score': 1.9018354,\n",
       "    u'_source': {u'corp_week': 0,\n",
       "     u'downPayment': 0.0,\n",
       "     u'finalDisposition': u'No Show',\n",
       "     u'isTrialMembership': False,\n",
       "     u'loanDate': u'',\n",
       "     u'location': u'RFR',\n",
       "     u'orderId': 10296063,\n",
       "     u'salePrice': 0.0,\n",
       "     u'tourDate': u'2020-01-02 00:00:00',\n",
       "     u'tour_corp_week': 3401},\n",
       "    u'_type': u'tours'},\n",
       "   {u'_id': u'10297047',\n",
       "    u'_index': u'pos',\n",
       "    u'_score': 1.9018354,\n",
       "    u'_source': {u'corp_week': 0,\n",
       "     u'downPayment': 0.0,\n",
       "     u'finalDisposition': u'No Show',\n",
       "     u'isTrialMembership': False,\n",
       "     u'loanDate': u'',\n",
       "     u'location': u'RFR',\n",
       "     u'orderId': 10297047,\n",
       "     u'salePrice': 0.0,\n",
       "     u'tourDate': u'2020-01-02 00:00:00',\n",
       "     u'tour_corp_week': 3401},\n",
       "    u'_type': u'tours'},\n",
       "   {u'_id': u'10298037',\n",
       "    u'_index': u'pos',\n",
       "    u'_score': 1.9018354,\n",
       "    u'_source': {u'corp_week': 0,\n",
       "     u'downPayment': 0.0,\n",
       "     u'finalDisposition': u'No Show',\n",
       "     u'isTrialMembership': False,\n",
       "     u'loanDate': u'',\n",
       "     u'location': u'RFR',\n",
       "     u'orderId': 10298037,\n",
       "     u'salePrice': 0.0,\n",
       "     u'tourDate': u'2020-01-02 00:00:00',\n",
       "     u'tour_corp_week': 3401},\n",
       "    u'_type': u'tours'},\n",
       "   {u'_id': u'10298256',\n",
       "    u'_index': u'pos',\n",
       "    u'_score': 1.9018354,\n",
       "    u'_source': {u'corp_week': 0,\n",
       "     u'downPayment': 0.0,\n",
       "     u'finalDisposition': u'No Show',\n",
       "     u'isTrialMembership': False,\n",
       "     u'loanDate': u'',\n",
       "     u'location': u'RFR',\n",
       "     u'orderId': 10298256,\n",
       "     u'salePrice': 0.0,\n",
       "     u'tourDate': u'2020-01-03 00:00:00',\n",
       "     u'tour_corp_week': 3401},\n",
       "    u'_type': u'tours'},\n",
       "   {u'_id': u'10298040',\n",
       "    u'_index': u'pos',\n",
       "    u'_score': 1.9018354,\n",
       "    u'_source': {u'corp_week': 3401,\n",
       "     u'downPayment': 0.0,\n",
       "     u'finalDisposition': u'DNQ',\n",
       "     u'isTrialMembership': False,\n",
       "     u'loanDate': u'2020-01-03 10:48:57.389000',\n",
       "     u'location': u'RFR',\n",
       "     u'orderId': 10298040,\n",
       "     u'salePrice': 0.0,\n",
       "     u'tourDate': u'2020-01-03 00:00:00',\n",
       "     u'tour_corp_week': 3401},\n",
       "    u'_type': u'tours'},\n",
       "   {u'_id': u'10298602',\n",
       "    u'_index': u'pos',\n",
       "    u'_score': 1.9018354,\n",
       "    u'_source': {u'corp_week': 0,\n",
       "     u'downPayment': 0.0,\n",
       "     u'finalDisposition': u'No Sale',\n",
       "     u'isTrialMembership': False,\n",
       "     u'loanDate': u'',\n",
       "     u'location': u'RFR',\n",
       "     u'orderId': 10298602,\n",
       "     u'salePrice': 0.0,\n",
       "     u'tourDate': u'2020-01-03 00:00:00',\n",
       "     u'tour_corp_week': 3401},\n",
       "    u'_type': u'tours'},\n",
       "   {u'_id': u'10297970',\n",
       "    u'_index': u'pos',\n",
       "    u'_score': 1.9018354,\n",
       "    u'_source': {u'corp_week': 0,\n",
       "     u'downPayment': 0.0,\n",
       "     u'finalDisposition': u'No Show',\n",
       "     u'isTrialMembership': False,\n",
       "     u'loanDate': u'',\n",
       "     u'location': u'RFR',\n",
       "     u'orderId': 10297970,\n",
       "     u'salePrice': 0.0,\n",
       "     u'tourDate': u'2020-01-03 00:00:00',\n",
       "     u'tour_corp_week': 3401},\n",
       "    u'_type': u'tours'},\n",
       "   {u'_id': u'10298044',\n",
       "    u'_index': u'pos',\n",
       "    u'_score': 1.9018354,\n",
       "    u'_source': {u'corp_week': 0,\n",
       "     u'downPayment': 0.0,\n",
       "     u'finalDisposition': u'No Show',\n",
       "     u'isTrialMembership': False,\n",
       "     u'loanDate': u'',\n",
       "     u'location': u'RFR',\n",
       "     u'orderId': 10298044,\n",
       "     u'salePrice': 0.0,\n",
       "     u'tourDate': u'2020-01-03 00:00:00',\n",
       "     u'tour_corp_week': 3401},\n",
       "    u'_type': u'tours'},\n",
       "   {u'_id': u'10298266',\n",
       "    u'_index': u'pos',\n",
       "    u'_score': 1.9018354,\n",
       "    u'_source': {u'corp_week': 0,\n",
       "     u'downPayment': 0.0,\n",
       "     u'finalDisposition': u'No Show',\n",
       "     u'isTrialMembership': False,\n",
       "     u'loanDate': u'',\n",
       "     u'location': u'RFR',\n",
       "     u'orderId': 10298266,\n",
       "     u'salePrice': 0.0,\n",
       "     u'tourDate': u'2020-01-03 00:00:00',\n",
       "     u'tour_corp_week': 3401},\n",
       "    u'_type': u'tours'},\n",
       "   {u'_id': u'10298270',\n",
       "    u'_index': u'pos',\n",
       "    u'_score': 1.9018354,\n",
       "    u'_source': {u'corp_week': 0,\n",
       "     u'downPayment': 0.0,\n",
       "     u'finalDisposition': u'No Show',\n",
       "     u'isTrialMembership': False,\n",
       "     u'loanDate': u'',\n",
       "     u'location': u'RFR',\n",
       "     u'orderId': 10298270,\n",
       "     u'salePrice': 0.0,\n",
       "     u'tourDate': u'2020-01-03 00:00:00',\n",
       "     u'tour_corp_week': 3401},\n",
       "    u'_type': u'tours'}],\n",
       "  u'max_score': 1.9018354,\n",
       "  u'total': {u'relation': u'eq', u'value': 740}},\n",
       " u'timed_out': False,\n",
       " u'took': 27}"
      ]
     },
     "execution_count": 37,
     "metadata": {},
     "output_type": "execute_result"
    }
   ],
   "source": [
    "es.search(index='pos', body={\n",
    "    'query': {\n",
    "        'match_phrase_prefix': {\n",
    "            'location': 'RF'\n",
    "        }\n",
    "    }\n",
    "})"
   ]
  },
  {
   "cell_type": "code",
   "execution_count": null,
   "metadata": {
    "collapsed": true,
    "deletable": true,
    "editable": true
   },
   "outputs": [],
   "source": []
  },
  {
   "cell_type": "code",
   "execution_count": 38,
   "metadata": {
    "collapsed": true,
    "deletable": true,
    "editable": true
   },
   "outputs": [],
   "source": [
    "# There are also some repper fucntion available for aggregations like count"
   ]
  },
  {
   "cell_type": "code",
   "execution_count": 41,
   "metadata": {
    "collapsed": false,
    "deletable": true,
    "editable": true
   },
   "outputs": [
    {
     "data": {
      "text/plain": [
       "{u'_shards': {u'failed': 0, u'skipped': 0, u'successful': 1, u'total': 1},\n",
       " u'count': 4959}"
      ]
     },
     "execution_count": 41,
     "metadata": {},
     "output_type": "execute_result"
    }
   ],
   "source": [
    "es.count(index='pos') # We can aslo include doc_type"
   ]
  },
  {
   "cell_type": "code",
   "execution_count": 43,
   "metadata": {
    "collapsed": false,
    "deletable": true,
    "editable": true
   },
   "outputs": [
    {
     "data": {
      "text/plain": [
       "{u'_shards': {u'failed': 0, u'skipped': 0, u'successful': 1, u'total': 1},\n",
       " u'count': 740}"
      ]
     },
     "execution_count": 43,
     "metadata": {},
     "output_type": "execute_result"
    }
   ],
   "source": [
    "# Count using query\n",
    "es.count(index='pos', body={\n",
    "    'query': {\n",
    "        'match_phrase_prefix': {\n",
    "            'location': 'RF'\n",
    "        }\n",
    "    }\n",
    "})"
   ]
  },
  {
   "cell_type": "code",
   "execution_count": null,
   "metadata": {
    "collapsed": true,
    "deletable": true,
    "editable": true
   },
   "outputs": [],
   "source": []
  }
 ],
 "metadata": {
  "kernelspec": {
   "display_name": "Python 2",
   "language": "python",
   "name": "python2"
  },
  "language_info": {
   "codemirror_mode": {
    "name": "ipython",
    "version": 2
   },
   "file_extension": ".py",
   "mimetype": "text/x-python",
   "name": "python",
   "nbconvert_exporter": "python",
   "pygments_lexer": "ipython2",
   "version": "2.7.10"
  }
 },
 "nbformat": 4,
 "nbformat_minor": 2
}
