{
 "cells": [
  {
   "cell_type": "code",
   "execution_count": 1,
   "metadata": {
    "collapsed": true,
    "deletable": true,
    "editable": true
   },
   "outputs": [],
   "source": [
    "from requests import get, post, put, delete"
   ]
  },
  {
   "cell_type": "code",
   "execution_count": 3,
   "metadata": {
    "collapsed": true,
    "deletable": true,
    "editable": true
   },
   "outputs": [],
   "source": [
    "# Painless is the language we use in elasticsearch"
   ]
  },
  {
   "cell_type": "code",
   "execution_count": null,
   "metadata": {
    "collapsed": true,
    "deletable": true,
    "editable": true
   },
   "outputs": [],
   "source": []
  },
  {
   "cell_type": "code",
   "execution_count": 2,
   "metadata": {
    "collapsed": false,
    "deletable": true,
    "editable": true
   },
   "outputs": [
    {
     "data": {
      "text/plain": [
       "{u'_shards': {u'failed': 0, u'skipped': 0, u'successful': 1, u'total': 1},\n",
       " u'aggregations': {u'state_count_for_IL_and_TN': {u'value': 47.0}},\n",
       " u'hits': {u'hits': [],\n",
       "  u'max_score': None,\n",
       "  u'total': {u'relation': u'eq', u'value': 1000}},\n",
       " u'timed_out': False,\n",
       " u'took': 101}"
      ]
     },
     "execution_count": 2,
     "metadata": {},
     "output_type": "execute_result"
    }
   ],
   "source": [
    "# In below query we are finding total number of rows where state is either IL or TN\n",
    "\n",
    "url = 'http://localhost:9200/accounts/_search?pretty'\n",
    "query = {\n",
    "    'size': 0,\n",
    "    'aggs': {\n",
    "        'state_count_for_IL_and_TN': {\n",
    "            'sum': {\n",
    "                'script': {\n",
    "                    'lang': 'painless',\n",
    "                    'source': \"\"\"\n",
    "                      if (doc['state.keyword'].size() == 0) {\n",
    "                        return 0;\n",
    "                      }\n",
    "                      if (doc['state.keyword'].value == 'IL' || doc['state.keyword'].value == 'TN') {\n",
    "                        return 1;\n",
    "                      }\n",
    "                      return 0;\"\"\"\n",
    "                  }\n",
    "\n",
    "            }\n",
    "        }\n",
    "    }\n",
    "}\n",
    "\n",
    "resp = post(url, json=query)\n",
    "resp.json()"
   ]
  },
  {
   "cell_type": "code",
   "execution_count": null,
   "metadata": {
    "collapsed": false,
    "deletable": true,
    "editable": true
   },
   "outputs": [],
   "source": []
  }
 ],
 "metadata": {
  "kernelspec": {
   "display_name": "Python 2",
   "language": "python",
   "name": "python2"
  },
  "language_info": {
   "codemirror_mode": {
    "name": "ipython",
    "version": 2
   },
   "file_extension": ".py",
   "mimetype": "text/x-python",
   "name": "python",
   "nbconvert_exporter": "python",
   "pygments_lexer": "ipython2",
   "version": "2.7.10"
  }
 },
 "nbformat": 4,
 "nbformat_minor": 2
}
