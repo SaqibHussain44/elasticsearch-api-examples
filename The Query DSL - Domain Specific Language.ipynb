{
 "cells": [
  {
   "cell_type": "code",
   "execution_count": 2,
   "metadata": {
    "collapsed": true,
    "deletable": true,
    "editable": true
   },
   "outputs": [],
   "source": [
    "from requests import get, post, put, delete"
   ]
  },
  {
   "cell_type": "code",
   "execution_count": null,
   "metadata": {
    "collapsed": true,
    "deletable": true,
    "editable": true
   },
   "outputs": [],
   "source": []
  },
  {
   "cell_type": "markdown",
   "metadata": {
    "deletable": true,
    "editable": true
   },
   "source": [
    "### With URL Params"
   ]
  },
  {
   "cell_type": "code",
   "execution_count": 5,
   "metadata": {
    "collapsed": false,
    "deletable": true,
    "editable": true
   },
   "outputs": [],
   "source": [
    "url = 'http://localhost:9200/students/_search?q=Minnesota&size=20&pretty' # &_source=false, &_source=name, &_source=name,totalLectures\n",
    "resp = get(url)\n",
    "resp.json()"
   ]
  },
  {
   "cell_type": "code",
   "execution_count": null,
   "metadata": {
    "collapsed": true,
    "deletable": true,
    "editable": true
   },
   "outputs": [],
   "source": [
    "# Specifying size, and sort\n",
    "url = 'http://localhost:9200/students/_search?q=montana&sort=age:desc&size=2&pretty'\n",
    "resp = get(url)\n",
    "resp.json()"
   ]
  },
  {
   "cell_type": "code",
   "execution_count": null,
   "metadata": {
    "collapsed": true,
    "deletable": true,
    "editable": true
   },
   "outputs": [],
   "source": []
  },
  {
   "cell_type": "markdown",
   "metadata": {
    "deletable": true,
    "editable": true
   },
   "source": [
    "### With Query in request body"
   ]
  },
  {
   "cell_type": "code",
   "execution_count": 6,
   "metadata": {
    "collapsed": false,
    "deletable": true,
    "editable": true
   },
   "outputs": [],
   "source": [
    "url = 'http://localhost:9200/students/_search?pretty' # &_source=false, &_source=name, &_source=name,totalLectures\n",
    "# data = {'query': { 'match_all': {} }} # or data = {'query': {}} for match all\n",
    "\n",
    "# data = {'query': { 'match_all': {} },\n",
    "#         'size': 3}\n",
    "# Also, If want to query multiple indices or multiple types just include them using comma e.g student,courses\n",
    "\n",
    "data = {\n",
    "    'query': { 'match_all': {} },\n",
    "    'sort': { 'age': { 'order': 'desc' }},\n",
    "    'from': '10',\n",
    "    'size': 3\n",
    "}\n",
    "\n",
    "resp = post(url, json=data)\n",
    "resp.json()"
   ]
  },
  {
   "cell_type": "markdown",
   "metadata": {
    "deletable": true,
    "editable": true
   },
   "source": [
    "### Term Queries"
   ]
  },
  {
   "cell_type": "code",
   "execution_count": 43,
   "metadata": {
    "collapsed": false,
    "deletable": true,
    "editable": true
   },
   "outputs": [
    {
     "data": {
      "text/plain": [
       "{u'_shards': {u'failed': 0, u'skipped': 0, u'successful': 1, u'total': 1},\n",
       " u'hits': {u'hits': [],\n",
       "  u'max_score': None,\n",
       "  u'total': {u'relation': u'eq', u'value': 0}},\n",
       " u'timed_out': False,\n",
       " u'took': 11}"
      ]
     },
     "execution_count": 43,
     "metadata": {},
     "output_type": "execute_result"
    }
   ],
   "source": [
    "# Queries related to term\n",
    "\n",
    "# query = {\n",
    "#     'query': { 'term': { 'name': 'john' } }\n",
    "# }\n",
    "\n",
    "# query = {\n",
    "#     'query': { 'match': { 'name': 'John is' } }\n",
    "# }\n",
    "\n",
    "# Difference between term and match is that match will analyze the query first. On the other hand term will\n",
    "# search the exact same keyword with analyzing it.\n",
    "\n",
    "# data will not be return\n",
    "# query = {\n",
    "#     '_source': False,\n",
    "#     'query': { 'term': { 'name': 'Hassan' } }\n",
    "# }\n",
    "\n",
    "# # only those columns will be returned which starts with \"st\" or contains \"m\"\n",
    "query = {\n",
    "    '_source': 'st*',\n",
    "    # or '_source': ['st*', '*m*'],\n",
    "    'query': { 'term': { 'name': 'Hassan' } }\n",
    "}\n",
    "\n",
    "# # OR\n",
    "# _source = {\n",
    "#     'includes': ['st*', '*m*'],\n",
    "#     'excludes': '*il'\n",
    "# }\n",
    "\n",
    "resp = post(url, json=query)\n",
    "resp.json()"
   ]
  },
  {
   "cell_type": "code",
   "execution_count": null,
   "metadata": {
    "collapsed": true,
    "deletable": true,
    "editable": true
   },
   "outputs": [],
   "source": []
  },
  {
   "cell_type": "markdown",
   "metadata": {
    "deletable": true,
    "editable": true
   },
   "source": [
    "### Full Text Search_Match"
   ]
  },
  {
   "cell_type": "markdown",
   "metadata": {
    "deletable": true,
    "editable": true
   },
   "source": [
    "match\n",
    "\n",
    "match_phrase\n",
    "\n",
    "match_phrase_prefix"
   ]
  },
  {
   "cell_type": "code",
   "execution_count": 10,
   "metadata": {
    "collapsed": true,
    "deletable": true,
    "editable": true
   },
   "outputs": [],
   "source": [
    "query = {\n",
    "    'query': { 'match': { 'name': 'Hassan' } }\n",
    "}\n",
    "\n",
    "query = {\n",
    "    'query': { 'match': { 'name': {\n",
    "        'query': 'bray durham',\n",
    "        'operator': 'or'\n",
    "    } } }\n",
    "}\n",
    "\n",
    "# match_phrase - exactly matches \"hassan mehmood\" in name\n",
    "query = {\n",
    "    'query': { 'match_phrase': { 'name': 'Hassan Mehmood' } }\n",
    "}\n",
    "\n",
    "# match_phrase_prefix \n",
    "query = {\n",
    "    'query': { 'match_phrase_prefix': { 'name': 'Hass' } }\n",
    "}\n",
    "query = {\n",
    "    'query': { 'match_phrase_prefix': { 'street': 'Monoro Str' } }\n",
    "}\n",
    "\n"
   ]
  },
  {
   "cell_type": "code",
   "execution_count": null,
   "metadata": {
    "collapsed": true,
    "deletable": true,
    "editable": true
   },
   "outputs": [],
   "source": []
  },
  {
   "cell_type": "markdown",
   "metadata": {
    "deletable": true,
    "editable": true
   },
   "source": [
    "### Compound Queries\n",
    "must, should, must_not, filter"
   ]
  },
  {
   "cell_type": "code",
   "execution_count": 7,
   "metadata": {
    "collapsed": false,
    "deletable": true,
    "editable": true
   },
   "outputs": [],
   "source": [
    "\n",
    "# this query means street must contains following 2 words.\n",
    "query = {\n",
    "    'query': {\n",
    "        'bool': {\n",
    "            'must': [\n",
    "                {'match': {'street': 'roder'}},\n",
    "                {'match': {'street': 'avenue'}}\n",
    "            ]\n",
    "        }\n",
    "    }\n",
    "}\n",
    "\n",
    "# Should acts like OR\n",
    "query = {\n",
    "    'query': {\n",
    "        'bool': {\n",
    "            'should': [\n",
    "                {'match': {'street': 'roder'}},\n",
    "                {'match': {'street': 'avenue'}}\n",
    "            ]\n",
    "        }\n",
    "    }\n",
    "}\n",
    "\n",
    "# must not\n",
    "query = {\n",
    "    'query': {\n",
    "        'bool': {\n",
    "            'must_not': [\n",
    "                {'match': {'state': 'arizona kentucky'}},\n",
    "                {'match': {'street': 'avenue street place lane'}}\n",
    "            ]\n",
    "        }\n",
    "    }\n",
    "}\n",
    "\n",
    "resp = post(url, json=query)\n",
    "resp.json()"
   ]
  },
  {
   "cell_type": "code",
   "execution_count": null,
   "metadata": {
    "collapsed": true,
    "deletable": true,
    "editable": true
   },
   "outputs": [],
   "source": []
  },
  {
   "cell_type": "markdown",
   "metadata": {
    "deletable": true,
    "editable": true
   },
   "source": [
    "### Term Queries Boosting Terms"
   ]
  },
  {
   "cell_type": "code",
   "execution_count": 15,
   "metadata": {
    "collapsed": false,
    "deletable": true,
    "editable": true
   },
   "outputs": [],
   "source": [
    "query = {\n",
    "    'query': {\n",
    "        'bool': {\n",
    "            'should': [{\n",
    "                'term': {\n",
    "                    'state': {\n",
    "                        'value': 'delaware',\n",
    "                        'boost': 2.0\n",
    "                    }\n",
    "                }\n",
    "            },\n",
    "            {\n",
    "                'term': {\n",
    "                    'state': {\n",
    "                        'value': 'texas'\n",
    "                    }\n",
    "                }\n",
    "            }]\n",
    "        }\n",
    "    }\n",
    "}\n",
    "\n",
    "resp = post(url, json=query)\n",
    "resp.json()"
   ]
  },
  {
   "cell_type": "code",
   "execution_count": null,
   "metadata": {
    "collapsed": true,
    "deletable": true,
    "editable": true
   },
   "outputs": [],
   "source": []
  },
  {
   "cell_type": "markdown",
   "metadata": {
    "deletable": true,
    "editable": true
   },
   "source": [
    "### Filters"
   ]
  },
  {
   "cell_type": "code",
   "execution_count": 17,
   "metadata": {
    "collapsed": true,
    "deletable": true,
    "editable": true
   },
   "outputs": [],
   "source": [
    "query = {\n",
    "    'query': {\n",
    "        'bool': {\n",
    "            'must': { 'match_all': {} },\n",
    "            'filter': {\n",
    "                'range': {\n",
    "                    'range': {\n",
    "                        'gte': 25,\n",
    "                        'lte': 35\n",
    "                    }\n",
    "                }\n",
    "            }\n",
    "        }\n",
    "    }\n",
    "}\n",
    "\n",
    "resp = post(url, json=query)\n",
    "resp.json()"
   ]
  },
  {
   "cell_type": "code",
   "execution_count": null,
   "metadata": {
    "collapsed": true,
    "deletable": true,
    "editable": true
   },
   "outputs": [],
   "source": []
  },
  {
   "cell_type": "code",
   "execution_count": null,
   "metadata": {
    "collapsed": true,
    "deletable": true,
    "editable": true
   },
   "outputs": [],
   "source": []
  }
 ],
 "metadata": {
  "kernelspec": {
   "display_name": "Python 2",
   "language": "python",
   "name": "python2"
  },
  "language_info": {
   "codemirror_mode": {
    "name": "ipython",
    "version": 2
   },
   "file_extension": ".py",
   "mimetype": "text/x-python",
   "name": "python",
   "nbconvert_exporter": "python",
   "pygments_lexer": "ipython2",
   "version": "2.7.10"
  }
 },
 "nbformat": 4,
 "nbformat_minor": 2
}
